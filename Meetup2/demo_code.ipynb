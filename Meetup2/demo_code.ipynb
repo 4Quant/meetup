{
 "cells": [
  {
   "cell_type": "code",
   "execution_count": 1,
   "metadata": {
    "collapsed": false
   },
   "outputs": [
    {
     "data": {
      "text/plain": [
       "'47.36647,8.5429548,47.36772,8.548105'"
      ]
     },
     "execution_count": 1,
     "metadata": {},
     "output_type": "execute_result"
    }
   ],
   "source": [
    "from src.base.bbox import Bbox\n",
    "from src.detection.box_walker import BoxWalker\n",
    "from src.base.configuration import Configuration\n",
    "\n",
    "# Zurich Bellevue\n",
    "zuri = Bbox(left=8.5429548, top=47.36772, right=8.548105, bottom=47.366470)\n",
    "str(zuri)"
   ]
  },
  {
   "cell_type": "code",
   "execution_count": 2,
   "metadata": {
    "collapsed": false
   },
   "outputs": [
    {
     "name": "stdout",
     "output_type": "stream",
     "text": [
      "2016-12-05 19:20:55.189434: Start image loading.\n",
      "2016-12-05 19:20:56.351891: Stop image loading.\n",
      "2016-12-05 19:20:56.352179: Start street loading.\n",
      "2016-12-05 19:21:01.683762: 52 streets to walk.\n",
      "2016-12-05 19:21:01.683873: Stop street loading.\n",
      "CPU times: user 796 ms, sys: 164 ms, total: 960 ms\n",
      "Wall time: 6.91 s\n"
     ]
    }
   ],
   "source": [
    "%%time\n",
    "# Initialize walker\n",
    "walker = BoxWalker(zuri, Configuration(parameters=dict(compare=False, barrier=0.9)))\n",
    "\n",
    "walker.load_convnet()\n",
    "walker.load_tiles()\n",
    "walker.load_streets()"
   ]
  },
  {
   "cell_type": "code",
   "execution_count": 5,
   "metadata": {
    "collapsed": false
   },
   "outputs": [
    {
     "name": "stdout",
     "output_type": "stream",
     "text": [
      "2016-12-03 12:45:54.111343: Start detection.\n",
      "2016-12-03 12:45:54.171956: 277 images to analyze.\n",
      "2016-12-03 12:49:08.706275: Stop detection.\n",
      "CPU times: user 8min 53s, sys: 3.05 s, total: 8min 56s\n",
      "Wall time: 3min 14s\n"
     ]
    }
   ],
   "source": [
    "%%time\n",
    "# Walk along streets\n",
    "crosswalk_nodes = walker.walk()"
   ]
  },
  {
   "cell_type": "code",
   "execution_count": 6,
   "metadata": {
    "collapsed": false
   },
   "outputs": [
    {
     "name": "stdout",
     "output_type": "stream",
     "text": [
      "nb_crosswalks 10\n",
      "\n",
      "Coordinates:\n",
      "47.36695146802326 8.545755221250001\n",
      "47.36758010174418 8.545130223020834\n",
      "47.36734063953489 8.5453480335625\n",
      "47.367111351744185 8.544147124947918\n",
      "47.367512877906975 8.545242883645834\n",
      "47.36754194767442 8.545350179479167\n",
      "47.367243982558136 8.544279903541668\n",
      "47.367423851744185 8.545017562395834\n",
      "47.36664805232558 8.545709620520833\n",
      "47.36696903100775 8.544203455260416\n"
     ]
    }
   ],
   "source": [
    "print(\"nb_crosswalks\", len(crosswalk_nodes))\n",
    "print(\"\")\n",
    "print(\"Coordinates:\")\n",
    "for node in crosswalk_nodes:\n",
    "    print(node.latitude, node.longitude)"
   ]
  },
  {
   "cell_type": "code",
   "execution_count": null,
   "metadata": {
    "collapsed": true
   },
   "outputs": [],
   "source": []
  }
 ],
 "metadata": {
  "kernelspec": {
   "display_name": "Python 3",
   "language": "python",
   "name": "python3"
  },
  "language_info": {
   "codemirror_mode": {
    "name": "ipython",
    "version": 3
   },
   "file_extension": ".py",
   "mimetype": "text/x-python",
   "name": "python",
   "nbconvert_exporter": "python",
   "pygments_lexer": "ipython3",
   "version": "3.5.2"
  }
 },
 "nbformat": 4,
 "nbformat_minor": 2
}
